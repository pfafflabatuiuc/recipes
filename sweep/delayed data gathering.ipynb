{
 "cells": [
  {
   "cell_type": "code",
   "execution_count": 1,
   "id": "e4979a37-618f-402d-b4e4-45953ff01e8e",
   "metadata": {},
   "outputs": [],
   "source": [
    "%load_ext autoreload\n",
    "%autoreload 2"
   ]
  },
  {
   "cell_type": "code",
   "execution_count": 2,
   "id": "3a38631e-6aa8-464b-a340-48525b0d684b",
   "metadata": {},
   "outputs": [],
   "source": [
    "import time\n",
    "import numpy as np\n",
    "from labcore.measurement import *"
   ]
  },
  {
   "cell_type": "markdown",
   "id": "94ca50fa-72a9-4802-9afe-d61973f34ee2",
   "metadata": {},
   "source": [
    "Problem: we have an instrument that returns *delayed* data, i.e., we write a function that starts an experiment on the instrument but does not return the data.\n",
    "The data needs to be gathered from the instrument independently afterwards and asynchronously. \n",
    "How to incorporate that into our measurement framework?"
   ]
  },
  {
   "cell_type": "code",
   "execution_count": 3,
   "id": "ad3a8bea-36fa-47f4-9903-ae1a6154fe01",
   "metadata": {},
   "outputs": [],
   "source": [
    "global_start = None\n",
    "global_stop = None\n",
    "global_delay = None\n",
    "\n",
    "\n",
    "def gather_data(*specs, batchsize=1):\n",
    "    \"\"\"A generator that simulates collecting data.\n",
    "    yields for each spec a different power of the current number.\n",
    "    \"\"\"\n",
    "    global global_start\n",
    "    global global_stop\n",
    "    global global_delay\n",
    "    \n",
    "    nspecs = len(specs)\n",
    "\n",
    "    buffer = []\n",
    "    \n",
    "    for x in np.arange(global_start, global_stop):\n",
    "        time.sleep(global_delay)\n",
    "        buffer.append(tuple([x**i for i in range(1, nspecs+1)]))\n",
    "        \n",
    "        if len(buffer) >= batchsize:\n",
    "            print(f'releasing {len(buffer)} records.')\n",
    "            for b in buffer:\n",
    "                yield b\n",
    "            buffer = []\n",
    "    \n",
    "    print(f'releasing {len(buffer)} records.')\n",
    "    for b in buffer:\n",
    "        yield b\n",
    "\n",
    "\n",
    "def delayed_recording(*specs):\n",
    "    \"\"\"\n",
    "    returns a decorator. the decorated function will, when called,\n",
    "    return a sweep that calls the decorated function once, followed by a Sweep of `gather_data`.\n",
    "    The output of `gather_data` is recorded as specified by the specs that\n",
    "    are passed to this function to create the generator.\n",
    "    \"\"\"\n",
    "    \n",
    "    def decorator(fun):\n",
    "        \n",
    "        def sweep(batchsize=1):\n",
    "            \"\"\"Return a sweep that executes the decorated setup function and then iterates over\n",
    "            gathered data.\"\"\"\n",
    "            setup_sweep = once(fun)\n",
    "            gather_sweep = Sweep(record_as(gather_data(*specs, batchsize=batchsize), *specs))\n",
    "            return setup_sweep + gather_sweep\n",
    "        \n",
    "        return sweep\n",
    "        \n",
    "    return decorator\n",
    "\n",
    "\n",
    "# Note: this decoration will give us a function that creates a sweep when called.\n",
    "# we call it when creating the sweep to avoid the sweep getting exhausted.\n",
    "@delayed_recording(\n",
    "    indep('a'), dep('b'), dep('c')\n",
    ")\n",
    "def start_my_experiment(start=1, stop=10, delay=0.1):\n",
    "    global global_start\n",
    "    global global_stop\n",
    "    global global_delay\n",
    "    \n",
    "    print(f'my parameters: start={start}, stop={stop}, delay={delay}')\n",
    "    \n",
    "    global_start = start\n",
    "    global_stop = stop\n",
    "    global_delay = delay"
   ]
  },
  {
   "cell_type": "code",
   "execution_count": 4,
   "id": "74580b16-34ea-4b88-a20d-f369ce03220d",
   "metadata": {},
   "outputs": [
    {
     "name": "stdout",
     "output_type": "stream",
     "text": [
      "Help on function sweep in module __main__:\n",
      "\n",
      "sweep(batchsize=1)\n",
      "    Return a sweep that executes the decorated setup function and then iterates over\n",
      "    gathered data.\n",
      "\n"
     ]
    }
   ],
   "source": [
    "help(start_my_experiment)"
   ]
  },
  {
   "cell_type": "code",
   "execution_count": 13,
   "id": "1d8d2612-3a7c-44eb-94b2-caee00a1dd4e",
   "metadata": {},
   "outputs": [
    {
     "name": "stdout",
     "output_type": "stream",
     "text": [
      "my parameters: start=0, stop=20, delay=5\n",
      "{'a': None, 'b': None, 'c': None}\n",
      "releasing 4 records.\n",
      "{'a': 0, 'b': 0, 'c': 0}\n",
      "{'a': 1, 'b': 1, 'c': 1}\n",
      "{'a': 2, 'b': 4, 'c': 8}\n",
      "{'a': 3, 'b': 9, 'c': 27}\n",
      "releasing 4 records.\n",
      "{'a': 4, 'b': 16, 'c': 64}\n",
      "{'a': 5, 'b': 25, 'c': 125}\n",
      "{'a': 6, 'b': 36, 'c': 216}\n",
      "{'a': 7, 'b': 49, 'c': 343}\n",
      "releasing 4 records.\n",
      "{'a': 8, 'b': 64, 'c': 512}\n",
      "{'a': 9, 'b': 81, 'c': 729}\n",
      "{'a': 10, 'b': 100, 'c': 1000}\n",
      "{'a': 11, 'b': 121, 'c': 1331}\n",
      "releasing 4 records.\n",
      "{'a': 12, 'b': 144, 'c': 1728}\n",
      "{'a': 13, 'b': 169, 'c': 2197}\n",
      "{'a': 14, 'b': 196, 'c': 2744}\n",
      "{'a': 15, 'b': 225, 'c': 3375}\n",
      "releasing 4 records.\n",
      "{'a': 16, 'b': 256, 'c': 4096}\n",
      "{'a': 17, 'b': 289, 'c': 4913}\n",
      "{'a': 18, 'b': 324, 'c': 5832}\n",
      "{'a': 19, 'b': 361, 'c': 6859}\n",
      "releasing 0 records.\n"
     ]
    }
   ],
   "source": [
    "sweep = start_my_experiment(batchsize=4)\n",
    "\n",
    "sweep.set_action_opts(\n",
    "    start_my_experiment=dict(delay=5, start=0, stop=20)\n",
    ")\n",
    "\n",
    "for ret in sweep:\n",
    "    print(ret)"
   ]
  },
  {
   "cell_type": "code",
   "execution_count": null,
   "id": "9cb46f2d-76ed-49d2-98ce-cb7649465ab3",
   "metadata": {},
   "outputs": [],
   "source": []
  }
 ],
 "metadata": {
  "kernelspec": {
   "display_name": "Python [conda env:qcodes]",
   "language": "python",
   "name": "conda-env-qcodes-py"
  },
  "language_info": {
   "codemirror_mode": {
    "name": "ipython",
    "version": 3
   },
   "file_extension": ".py",
   "mimetype": "text/x-python",
   "name": "python",
   "nbconvert_exporter": "python",
   "pygments_lexer": "ipython3",
   "version": "3.9.6"
  }
 },
 "nbformat": 4,
 "nbformat_minor": 5
}
