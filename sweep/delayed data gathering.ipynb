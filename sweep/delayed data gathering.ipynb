{
 "cells": [
  {
   "cell_type": "code",
   "execution_count": 1,
   "id": "e4979a37-618f-402d-b4e4-45953ff01e8e",
   "metadata": {},
   "outputs": [],
   "source": [
    "%load_ext autoreload\n",
    "%autoreload 2"
   ]
  },
  {
   "cell_type": "code",
   "execution_count": 11,
   "id": "3a38631e-6aa8-464b-a340-48525b0d684b",
   "metadata": {},
   "outputs": [],
   "source": [
    "import time\n",
    "from functools import partial\n",
    "\n",
    "import numpy as np\n",
    "from labcore.measurement import *"
   ]
  },
  {
   "cell_type": "markdown",
   "id": "94ca50fa-72a9-4802-9afe-d61973f34ee2",
   "metadata": {},
   "source": [
    "Problem: we have an instrument that returns *delayed* data, i.e., we write a function that starts an experiment on the instrument but does not return the data.\n",
    "The data needs to be gathered from the instrument independently afterwards and asynchronously. \n",
    "How to incorporate that into our measurement framework?"
   ]
  },
  {
   "cell_type": "code",
   "execution_count": 8,
   "id": "ad3a8bea-36fa-47f4-9903-ae1a6154fe01",
   "metadata": {},
   "outputs": [],
   "source": [
    "global_start = None\n",
    "global_stop = None\n",
    "global_delay = None\n",
    "\n",
    "\n",
    "def dummy_collector(*specs, batchsize=1):\n",
    "    \"\"\"A generator that simulates collecting data.\n",
    "    yields for each spec a different power of the current number.\n",
    "    \"\"\"\n",
    "    global global_start\n",
    "    global global_stop\n",
    "    global global_delay\n",
    "    \n",
    "    nspecs = len(specs)\n",
    "    buffer = []\n",
    "    \n",
    "    for x in np.arange(global_start, global_stop):\n",
    "        time.sleep(global_delay)\n",
    "        buffer.append(tuple([x**i for i in range(1, nspecs+1)]))\n",
    "        \n",
    "        if len(buffer) >= batchsize:\n",
    "            print(f'releasing {len(buffer)} records.')\n",
    "            for b in buffer:\n",
    "                yield b\n",
    "            buffer = []\n",
    "\n",
    "    print(f'releasing {len(buffer)} records.')\n",
    "    for b in buffer:\n",
    "        yield b\n",
    "\n",
    "\n",
    "def background_recording(*specs):\n",
    "    \"\"\"\n",
    "    returns a decorator. the decorated function will, when called,\n",
    "    return a sweep that calls the decorated function once, followed by a Sweep of `gather_data`.\n",
    "    The output of `gather_data` is recorded as specified by the specs that\n",
    "    are passed to this function to create the generator.\n",
    "    \"\"\"\n",
    "    \n",
    "    def decorator(fun):\n",
    "        \n",
    "        def sweep(collector, **collector_kwargs):\n",
    "            \"\"\"Return a sweep that executes the decorated setup function and then iterates over\n",
    "            gathered data.\"\"\"\n",
    "            setup_sweep = once(fun)\n",
    "            gather_sweep = Sweep(record_as(collector(*specs, **collector_kwargs), *specs))\n",
    "            return setup_sweep + gather_sweep\n",
    "        \n",
    "        return sweep\n",
    "        \n",
    "    return decorator\n",
    "\n",
    "\n",
    "def create_background_sweep(decorated_setup_function, collector, **collector_kwargs):\n",
    "    sweep = decorated_setup_function(collector, **collector_kwargs)\n",
    "    return sweep\n",
    "\n",
    "\n",
    "# Note: this decoration will give us a function that creates a sweep when called.\n",
    "# we call it when creating the sweep to avoid the sweep getting exhausted.\n",
    "@background_recording(\n",
    "    indep('a'), dep('b'), dep('c')\n",
    ")\n",
    "def start_my_experiment(start=1, stop=10, delay=0.1):\n",
    "    global global_start\n",
    "    global global_stop\n",
    "    global global_delay\n",
    "    \n",
    "    print(f'my parameters: start={start}, stop={stop}, delay={delay}')\n",
    "    \n",
    "    global_start = start\n",
    "    global_stop = stop\n",
    "    global_delay = delay"
   ]
  },
  {
   "cell_type": "code",
   "execution_count": 10,
   "id": "1d8d2612-3a7c-44eb-94b2-caee00a1dd4e",
   "metadata": {},
   "outputs": [
    {
     "name": "stdout",
     "output_type": "stream",
     "text": [
      "my parameters: start=3, stop=10, delay=0.2\n",
      "{'a': None, 'b': None, 'c': None}\n",
      "releasing 3 records.\n",
      "{'a': 3, 'b': 9, 'c': 27}\n",
      "{'a': 4, 'b': 16, 'c': 64}\n",
      "{'a': 5, 'b': 25, 'c': 125}\n",
      "releasing 3 records.\n",
      "{'a': 6, 'b': 36, 'c': 216}\n",
      "{'a': 7, 'b': 49, 'c': 343}\n",
      "{'a': 8, 'b': 64, 'c': 512}\n",
      "releasing 1 records.\n",
      "{'a': 9, 'b': 81, 'c': 729}\n"
     ]
    }
   ],
   "source": [
    "sweep = create_background_sweep(start_my_experiment, dummy_collector, batchsize=3)\n",
    "\n",
    "sweep.set_action_opts(\n",
    "    start_my_experiment=dict(delay=0.2, start=3)\n",
    ")\n",
    "\n",
    "for ret in sweep:\n",
    "    print(ret)"
   ]
  },
  {
   "cell_type": "code",
   "execution_count": 13,
   "id": "9cb46f2d-76ed-49d2-98ce-cb7649465ab3",
   "metadata": {},
   "outputs": [
    {
     "name": "stdout",
     "output_type": "stream",
     "text": [
      "my parameters: start=1, stop=10, delay=0.2\n",
      "{'a': None, 'b': None, 'c': None}\n",
      "releasing 4 records.\n",
      "{'a': 1, 'b': 1, 'c': 1}\n",
      "{'a': 2, 'b': 4, 'c': 8}\n",
      "{'a': 3, 'b': 9, 'c': 27}\n",
      "{'a': 4, 'b': 16, 'c': 64}\n",
      "releasing 4 records.\n",
      "{'a': 5, 'b': 25, 'c': 125}\n",
      "{'a': 6, 'b': 36, 'c': 216}\n",
      "{'a': 7, 'b': 49, 'c': 343}\n",
      "{'a': 8, 'b': 64, 'c': 512}\n",
      "releasing 1 records.\n",
      "{'a': 9, 'b': 81, 'c': 729}\n"
     ]
    }
   ],
   "source": [
    "create_dummy_sweep = partial(create_background_sweep, collector=dummy_collector)\n",
    "\n",
    "sweep = create_dummy_sweep(start_my_experiment, batchsize=4)\n",
    "sweep.set_action_opts(\n",
    "    start_my_experiment=dict(delay=0.2, start=1)\n",
    ")\n",
    "\n",
    "for ret in sweep:\n",
    "    print(ret)"
   ]
  },
  {
   "cell_type": "code",
   "execution_count": null,
   "id": "7489d199-779d-45bb-a078-bbf979a67516",
   "metadata": {},
   "outputs": [],
   "source": []
  }
 ],
 "metadata": {
  "kernelspec": {
   "display_name": "Python [conda env:msmt-pyqt5]",
   "language": "python",
   "name": "conda-env-msmt-pyqt5-py"
  },
  "language_info": {
   "codemirror_mode": {
    "name": "ipython",
    "version": 3
   },
   "file_extension": ".py",
   "mimetype": "text/x-python",
   "name": "python",
   "nbconvert_exporter": "python",
   "pygments_lexer": "ipython3",
   "version": "3.9.6"
  }
 },
 "nbformat": 4,
 "nbformat_minor": 5
}
